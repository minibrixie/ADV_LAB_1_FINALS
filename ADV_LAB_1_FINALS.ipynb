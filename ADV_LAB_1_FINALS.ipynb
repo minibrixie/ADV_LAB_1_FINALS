{
  "nbformat": 4,
  "nbformat_minor": 0,
  "metadata": {
    "colab": {
      "provenance": [],
      "authorship_tag": "ABX9TyNQ2kEdH6YYLeZSSs2x3mTM",
      "include_colab_link": true
    },
    "kernelspec": {
      "name": "python3",
      "display_name": "Python 3"
    },
    "language_info": {
      "name": "python"
    }
  },
  "cells": [
    {
      "cell_type": "markdown",
      "metadata": {
        "id": "view-in-github",
        "colab_type": "text"
      },
      "source": [
        "<a href=\"https://colab.research.google.com/github/minibrixie/ADV_LAB_1_FINALS/blob/main/ADV_LAB_1_FINALS.ipynb\" target=\"_parent\"><img src=\"https://colab.research.google.com/assets/colab-badge.svg\" alt=\"Open In Colab\"/></a>"
      ]
    },
    {
      "cell_type": "code",
      "execution_count": null,
      "metadata": {
        "colab": {
          "base_uri": "https://localhost:8080/"
        },
        "id": "O47UrU2YG13i",
        "outputId": "4ce261a6-e16c-412d-c645-6673a4fafc29"
      },
      "outputs": [
        {
          "output_type": "stream",
          "name": "stdout",
          "text": [
            "A\n",
            "n\n",
            "g\n",
            "e\n",
            "l\n",
            "i\n",
            "c\n",
            "a\n"
          ]
        }
      ],
      "source": [
        "myName = \"Angelica\"\n",
        "for x in myName:\n",
        " print(x)"
      ]
    },
    {
      "cell_type": "code",
      "source": [
        "for x in range(6):\n",
        "\n",
        " print(x)\n",
        "\n",
        "else:\n",
        "\n",
        " print(\"Finally finished!\")"
      ],
      "metadata": {
        "colab": {
          "base_uri": "https://localhost:8080/"
        },
        "id": "jAyyTQQtHmQ4",
        "outputId": "3018f07b-61b4-4e2b-e792-e72e0195ea6f"
      },
      "execution_count": null,
      "outputs": [
        {
          "output_type": "stream",
          "name": "stdout",
          "text": [
            "0\n",
            "1\n",
            "2\n",
            "3\n",
            "4\n",
            "5\n",
            "Finally finished!\n"
          ]
        }
      ]
    },
    {
      "cell_type": "code",
      "source": [
        "list(range(0,10))"
      ],
      "metadata": {
        "colab": {
          "base_uri": "https://localhost:8080/"
        },
        "id": "-AAiqOsfIGcp",
        "outputId": "50216a98-2cbf-4c6d-bc43-a1f6b0d9de5c"
      },
      "execution_count": null,
      "outputs": [
        {
          "output_type": "execute_result",
          "data": {
            "text/plain": [
              "[0, 1, 2, 3, 4, 5, 6, 7, 8, 9]"
            ]
          },
          "metadata": {},
          "execution_count": 6
        }
      ]
    },
    {
      "cell_type": "code",
      "source": [
        "thislist = [\"apple\", \"banana\", \"cherry\"]\n",
        "\n",
        "for x in thislist:\n",
        "\n",
        " print(x)"
      ],
      "metadata": {
        "colab": {
          "base_uri": "https://localhost:8080/"
        },
        "id": "YaOdhY2GH1Ql",
        "outputId": "1e6231c8-411e-4e97-d86e-6a7bedba5b0e"
      },
      "execution_count": null,
      "outputs": [
        {
          "output_type": "stream",
          "name": "stdout",
          "text": [
            "apple\n",
            "banana\n",
            "cherry\n"
          ]
        }
      ]
    },
    {
      "cell_type": "code",
      "source": [
        "dataAnalyticsTools = ['Python', 'R', 'SQL', 'Git'] \n",
        "\n",
        "for i in range(len(dataAnalyticsTools)): \n",
        "\n",
        " print(dataAnalyticsTools [ i ])"
      ],
      "metadata": {
        "id": "AlPypQgIIMAU",
        "outputId": "95399fcf-1e58-40da-caf0-09c5bd61b733",
        "colab": {
          "base_uri": "https://localhost:8080/"
        }
      },
      "execution_count": null,
      "outputs": [
        {
          "output_type": "stream",
          "name": "stdout",
          "text": [
            "Python\n",
            "R\n",
            "SQL\n",
            "Git\n"
          ]
        }
      ]
    }
  ]
}